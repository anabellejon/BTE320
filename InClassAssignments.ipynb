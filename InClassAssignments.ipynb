{
  "nbformat": 4,
  "nbformat_minor": 0,
  "metadata": {
    "colab": {
      "provenance": [],
      "include_colab_link": true
    },
    "kernelspec": {
      "name": "python3",
      "display_name": "Python 3"
    },
    "language_info": {
      "name": "python"
    }
  },
  "cells": [
    {
      "cell_type": "markdown",
      "metadata": {
        "id": "view-in-github",
        "colab_type": "text"
      },
      "source": [
        "<a href=\"https://colab.research.google.com/github/anabellejon/BTE320/blob/main/InClassAssignments.ipynb\" target=\"_parent\"><img src=\"https://colab.research.google.com/assets/colab-badge.svg\" alt=\"Open In Colab\"/></a>"
      ]
    },
    {
      "cell_type": "markdown",
      "source": [
        "# 09/03"
      ],
      "metadata": {
        "id": "LeKkCjPIsT1-"
      }
    },
    {
      "cell_type": "code",
      "execution_count": null,
      "metadata": {
        "colab": {
          "base_uri": "https://localhost:8080/"
        },
        "id": "mQQH8VfHaN1K",
        "outputId": "15beb518-811b-4054-fa0e-56451380ebd8"
      },
      "outputs": [
        {
          "output_type": "stream",
          "name": "stdout",
          "text": [
            "Enter sales ($): 12000\n",
            "Sales: $12000.0\n",
            "Cost of Goods Sold: $4800.0\n",
            "Gross Profit: $7200.0\n",
            "Enter Tax Rate(%): 30\n",
            "Taxes: $2160.0\n",
            "Net Profit: $5040.0\n"
          ]
        }
      ],
      "source": [
        "sales = float(input(\"Enter sales ($): \"))\n",
        "print(f'Sales: ${sales}')\n",
        "\n",
        "#Cost of Goods Sold\n",
        "cog = 0.4\n",
        "cogs = sales * cog\n",
        "print(f'Cost of Goods Sold: ${cogs}')\n",
        "\n",
        "#Gross Profit\n",
        "gross_profit = sales - cogs\n",
        "print(f'Gross Profit: ${gross_profit}')\n",
        "\n",
        "#Taxes\n",
        "taxRate = float(input(\"Enter Tax Rate(%): \"))\n",
        "taxes = (taxRate/100) * gross_profit\n",
        "print(f'Taxes: ${taxes}')\n",
        "\n",
        "#Net Income\n",
        "NetProfit= gross_profit - taxes\n",
        "print(f'Net Profit: ${NetProfit}')"
      ]
    },
    {
      "cell_type": "markdown",
      "source": [
        "# 09/08"
      ],
      "metadata": {
        "id": "FZ20oja3oA4o"
      }
    },
    {
      "cell_type": "code",
      "source": [
        "import math\n",
        "\n",
        "#Inputs\n",
        "Demand = int(input(\"Enter Demand (units/year): \"))\n",
        "ReorderCost = float(input(\"Enter Reorder Cost ($/order): \"))\n",
        "HoldingCost = float(input(\"Enter Holding Cost ($/unit/year): \"))\n",
        "\n",
        "#Process\n",
        "eoq = (2 * Demand * ReorderCost / HoldingCost) ** (1/2)\n",
        "\n",
        "#Output\n",
        "print(f'EOQ: {eoq} units')"
      ],
      "metadata": {
        "id": "jkfMWCZVhYY4",
        "colab": {
          "base_uri": "https://localhost:8080/"
        },
        "outputId": "5d8d3894-23cc-4001-8b2a-cd96f545549b"
      },
      "execution_count": null,
      "outputs": [
        {
          "output_type": "stream",
          "name": "stdout",
          "text": [
            "Enter Demand (units/year): 1000\n",
            "Enter Reorder Cost ($/order): 50\n",
            "Enter Holding Cost ($/unit/year): 10\n",
            "EOQ: 100.0 units\n"
          ]
        }
      ]
    },
    {
      "cell_type": "markdown",
      "source": [
        "# 09/15"
      ],
      "metadata": {
        "id": "ifgPZxB3xKS2"
      }
    },
    {
      "cell_type": "code",
      "source": [
        "#inputs\n",
        "number1 = float(input(\"Enter the first number: \"))\n",
        "number2 = float(input(\"Enter the second number: \"))\n",
        "operator = input(\"Enter operator (+,-,*,/,//,**,%): \")\n",
        "\n",
        "if operator == \"+\":\n",
        "  res = number1 + number2\n",
        "elif operator == \"-\":\n",
        "  res = number1 - number2\n",
        "elif operator == \"*\":\n",
        "  res = number1 * number2\n",
        "elif operator == \"/\":\n",
        "  res = number1 / number2\n",
        "elif operator == \"//\":\n",
        "  res = number1 // number2\n",
        "elif operator == \"**\":\n",
        "  res = number1 ** number2\n",
        "elif operator == \"%\":\n",
        "  res = number1 % number2\n",
        "else:\n",
        "  res = None\n",
        "  print(\"Invalid operator\")\n",
        "\n",
        "print(f'result = {res}')"
      ],
      "metadata": {
        "colab": {
          "base_uri": "https://localhost:8080/"
        },
        "id": "Y0HxEMn2xFyt",
        "outputId": "db6ae3da-6d8a-4fd0-da88-17b74295aabb"
      },
      "execution_count": 1,
      "outputs": [
        {
          "output_type": "stream",
          "name": "stdout",
          "text": [
            "Enter the first number: 10\n",
            "Enter the second number: 10\n",
            "Enter operator (+,-,*,/,//,**,%): +\n",
            "result = 20.0\n"
          ]
        }
      ]
    }
  ]
}