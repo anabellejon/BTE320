{
  "nbformat": 4,
  "nbformat_minor": 0,
  "metadata": {
    "colab": {
      "provenance": [],
      "toc_visible": true,
      "include_colab_link": true
    },
    "kernelspec": {
      "name": "python3",
      "display_name": "Python 3"
    },
    "language_info": {
      "name": "python"
    }
  },
  "cells": [
    {
      "cell_type": "markdown",
      "metadata": {
        "id": "view-in-github",
        "colab_type": "text"
      },
      "source": [
        "<a href=\"https://colab.research.google.com/github/anabellejon/BTE320/blob/main/InClassAssignments.ipynb\" target=\"_parent\"><img src=\"https://colab.research.google.com/assets/colab-badge.svg\" alt=\"Open In Colab\"/></a>"
      ]
    },
    {
      "cell_type": "markdown",
      "source": [
        "# 09/03"
      ],
      "metadata": {
        "id": "LeKkCjPIsT1-"
      }
    },
    {
      "cell_type": "code",
      "execution_count": null,
      "metadata": {
        "colab": {
          "base_uri": "https://localhost:8080/"
        },
        "id": "mQQH8VfHaN1K",
        "outputId": "15beb518-811b-4054-fa0e-56451380ebd8"
      },
      "outputs": [
        {
          "output_type": "stream",
          "name": "stdout",
          "text": [
            "Enter sales ($): 12000\n",
            "Sales: $12000.0\n",
            "Cost of Goods Sold: $4800.0\n",
            "Gross Profit: $7200.0\n",
            "Enter Tax Rate(%): 30\n",
            "Taxes: $2160.0\n",
            "Net Profit: $5040.0\n"
          ]
        }
      ],
      "source": [
        "sales = float(input(\"Enter sales ($): \"))\n",
        "print(f'Sales: ${sales}')\n",
        "\n",
        "#Cost of Goods Sold\n",
        "cog = 0.4\n",
        "cogs = sales * cog\n",
        "print(f'Cost of Goods Sold: ${cogs}')\n",
        "\n",
        "#Gross Profit\n",
        "gross_profit = sales - cogs\n",
        "print(f'Gross Profit: ${gross_profit}')\n",
        "\n",
        "#Taxes\n",
        "taxRate = float(input(\"Enter Tax Rate(%): \"))\n",
        "taxes = (taxRate/100) * gross_profit\n",
        "print(f'Taxes: ${taxes}')\n",
        "\n",
        "#Net Income\n",
        "NetProfit= gross_profit - taxes\n",
        "print(f'Net Profit: ${NetProfit}')"
      ]
    },
    {
      "cell_type": "markdown",
      "source": [
        "# 09/08"
      ],
      "metadata": {
        "id": "FZ20oja3oA4o"
      }
    },
    {
      "cell_type": "code",
      "source": [
        "import math\n",
        "\n",
        "#Inputs\n",
        "Demand = int(input(\"Enter Demand (units/year): \"))\n",
        "ReorderCost = float(input(\"Enter Reorder Cost ($/order): \"))\n",
        "HoldingCost = float(input(\"Enter Holding Cost ($/unit/year): \"))\n",
        "\n",
        "#Process\n",
        "eoq = (2 * Demand * ReorderCost / HoldingCost) ** (1/2)\n",
        "\n",
        "#Output\n",
        "print(f'EOQ: {eoq} units')"
      ],
      "metadata": {
        "id": "jkfMWCZVhYY4",
        "colab": {
          "base_uri": "https://localhost:8080/"
        },
        "outputId": "5d8d3894-23cc-4001-8b2a-cd96f545549b"
      },
      "execution_count": null,
      "outputs": [
        {
          "output_type": "stream",
          "name": "stdout",
          "text": [
            "Enter Demand (units/year): 1000\n",
            "Enter Reorder Cost ($/order): 50\n",
            "Enter Holding Cost ($/unit/year): 10\n",
            "EOQ: 100.0 units\n"
          ]
        }
      ]
    },
    {
      "cell_type": "markdown",
      "source": [
        "# 09/1"
      ],
      "metadata": {
        "id": "ifgPZxB3xKS2"
      }
    },
    {
      "cell_type": "code",
      "source": [
        "#inputs\n",
        "number1 = float(input(\"Enter the first number: \"))\n",
        "number2 = float(input(\"Enter the second number: \"))\n",
        "operator = input(\"Enter operator (+,-,*,/,//,**,%): \")\n",
        "\n",
        "if operator == \"+\":\n",
        "  res = number1 + number2\n",
        "elif operator == \"-\":\n",
        "  res = number1 - number2\n",
        "elif operator == \"*\":\n",
        "  res = number1 * number2\n",
        "elif operator == \"/\":\n",
        "  res = number1 / number2\n",
        "elif operator == \"//\":\n",
        "  res = number1 // number2\n",
        "elif operator == \"**\":\n",
        "  res = number1 ** number2\n",
        "elif operator == \"%\":\n",
        "  res = number1 % number2\n",
        "else:\n",
        "  res = None\n",
        "  print(\"Invalid operator\")\n",
        "\n",
        "print(f'result = {res}')"
      ],
      "metadata": {
        "id": "Y0HxEMn2xFyt",
        "outputId": "db6ae3da-6d8a-4fd0-da88-17b74295aabb",
        "colab": {
          "base_uri": "https://localhost:8080/"
        }
      },
      "execution_count": null,
      "outputs": [
        {
          "output_type": "stream",
          "name": "stdout",
          "text": [
            "Enter the first number: 10\n",
            "Enter the second number: 10\n",
            "Enter operator (+,-,*,/,//,**,%): +\n",
            "result = 20.0\n"
          ]
        }
      ]
    },
    {
      "cell_type": "markdown",
      "source": [
        "# 09/17"
      ],
      "metadata": {
        "id": "pjO4OhWN90Bx"
      }
    },
    {
      "cell_type": "code",
      "source": [
        "for hour in range(1,9):\n",
        "  fee = 5 + (2.5 * hour)\n",
        "\n",
        "  if fee < 10:\n",
        "    fee = 10.0\n",
        "  elif fee > 20:\n",
        "    fee = 20.0\n",
        "\n",
        "  print(hour, fee)"
      ],
      "metadata": {
        "colab": {
          "base_uri": "https://localhost:8080/"
        },
        "id": "szw5M8S3AIL3",
        "outputId": "18c1d395-e2b1-4e74-869c-8c1f061dfe3c"
      },
      "execution_count": null,
      "outputs": [
        {
          "output_type": "stream",
          "name": "stdout",
          "text": [
            "1 10.0\n",
            "2 10.0\n",
            "3 12.5\n",
            "4 15.0\n",
            "5 17.5\n",
            "6 20.0\n",
            "7 20.0\n",
            "8 20.0\n"
          ]
        }
      ]
    },
    {
      "cell_type": "markdown",
      "source": [
        "# 09/22"
      ],
      "metadata": {
        "id": "4612m6G3ss0E"
      }
    },
    {
      "cell_type": "code",
      "source": [
        "print(f'ad($) \\t profit($)')\n",
        "for ad in range(0, 201, 25):\n",
        "  revenue = (20 + 2 * ad ** 0.5) * 10\n",
        "  costs = 200 + ad\n",
        "  profit = revenue - costs\n",
        "  print(f\"${ad} \\t ${round(profit, 1)}\")"
      ],
      "metadata": {
        "colab": {
          "base_uri": "https://localhost:8080/"
        },
        "id": "pvIos8x5spO5",
        "outputId": "925a1d1e-017d-42f2-d367-1040e75dd61b"
      },
      "execution_count": 31,
      "outputs": [
        {
          "output_type": "stream",
          "name": "stdout",
          "text": [
            "ad($) \t profit($)\n",
            "$0 \t $0.0\n",
            "$25 \t $75.0\n",
            "$50 \t $91.4\n",
            "$75 \t $98.2\n",
            "$100 \t $100.0\n",
            "$125 \t $98.6\n",
            "$150 \t $94.9\n",
            "$175 \t $89.6\n",
            "$200 \t $82.8\n"
          ]
        }
      ]
    }
  ]
}