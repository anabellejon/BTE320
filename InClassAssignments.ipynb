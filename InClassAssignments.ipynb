{
  "nbformat": 4,
  "nbformat_minor": 0,
  "metadata": {
    "colab": {
      "provenance": [],
      "authorship_tag": "ABX9TyOEje+s0bT+TxJbuxp1VHyD",
      "include_colab_link": true
    },
    "kernelspec": {
      "name": "python3",
      "display_name": "Python 3"
    },
    "language_info": {
      "name": "python"
    }
  },
  "cells": [
    {
      "cell_type": "markdown",
      "metadata": {
        "id": "view-in-github",
        "colab_type": "text"
      },
      "source": [
        "<a href=\"https://colab.research.google.com/github/anabellejon/BTE320/blob/main/InClassAssignments.ipynb\" target=\"_parent\"><img src=\"https://colab.research.google.com/assets/colab-badge.svg\" alt=\"Open In Colab\"/></a>"
      ]
    },
    {
      "cell_type": "code",
      "execution_count": 32,
      "metadata": {
        "colab": {
          "base_uri": "https://localhost:8080/"
        },
        "id": "mQQH8VfHaN1K",
        "outputId": "15beb518-811b-4054-fa0e-56451380ebd8"
      },
      "outputs": [
        {
          "output_type": "stream",
          "name": "stdout",
          "text": [
            "Enter sales ($): 12000\n",
            "Sales: $12000.0\n",
            "Cost of Goods Sold: $4800.0\n",
            "Gross Profit: $7200.0\n",
            "Enter Tax Rate(%): 30\n",
            "Taxes: $2160.0\n",
            "Net Profit: $5040.0\n"
          ]
        }
      ],
      "source": [
        "sales = float(input(\"Enter sales ($): \"))\n",
        "print(f'Sales: ${sales}')\n",
        "\n",
        "#Cost of Goods Sold\n",
        "cog = 0.4\n",
        "cogs = sales * cog\n",
        "print(f'Cost of Goods Sold: ${cogs}')\n",
        "\n",
        "#Gross Profit\n",
        "gross_profit = sales - cogs\n",
        "print(f'Gross Profit: ${gross_profit}')\n",
        "\n",
        "#Taxes\n",
        "taxRate = float(input(\"Enter Tax Rate(%): \"))\n",
        "taxes = (taxRate/100) * gross_profit\n",
        "print(f'Taxes: ${taxes}')\n",
        "\n",
        "#Net Income\n",
        "NetProfit= gross_profit - taxes\n",
        "print(f'Net Profit: ${NetProfit}')"
      ]
    },
    {
      "cell_type": "code",
      "source": [],
      "metadata": {
        "id": "jkfMWCZVhYY4"
      },
      "execution_count": null,
      "outputs": []
    }
  ]
}